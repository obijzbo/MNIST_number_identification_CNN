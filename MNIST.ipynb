{
  "nbformat": 4,
  "nbformat_minor": 0,
  "metadata": {
    "colab": {
      "name": "MNIST.ipynb",
      "provenance": []
    },
    "kernelspec": {
      "name": "python3",
      "display_name": "Python 3"
    },
    "language_info": {
      "name": "python"
    }
  },
  "cells": [
    {
      "cell_type": "code",
      "metadata": {
        "id": "XqCORpSsaqzV"
      },
      "source": [
        "import numpy as np\n",
        "import matplotlib.pyplot as plt\n",
        "%matplotlib inline\n",
        "from sklearn.model_selection import train_test_split\n",
        "from sklearn.metrics import confusion_matrix\n",
        "import pandas as pd\n",
        "\n",
        "from keras.utils.np_utils import to_categorical\n",
        "from keras.models import Sequential\n",
        "from keras.layers import Dense, Dropout, Flatten, Conv2D, MaxPool2D, BatchNormalization\n",
        "from keras.optimizers import Adam\n",
        "from keras.preprocessing.image import ImageDataGenerator\n",
        "from keras.callbacks import LearningRateScheduler"
      ],
      "execution_count": null,
      "outputs": []
    },
    {
      "cell_type": "code",
      "metadata": {
        "id": "Y21qf-osknr2"
      },
      "source": [
        "EPOCHS = 30\n",
        "BS = 32"
      ],
      "execution_count": null,
      "outputs": []
    },
    {
      "cell_type": "code",
      "metadata": {
        "id": "DZMRWzztc4I6"
      },
      "source": [
        "train_data = pd.read_csv('/content/drive/MyDrive/digit-recognizer/train.csv')\n",
        "test_data = pd.read_csv('/content/drive/MyDrive/digit-recognizer/test.csv')"
      ],
      "execution_count": null,
      "outputs": []
    },
    {
      "cell_type": "code",
      "metadata": {
        "id": "0utChk17dpuV"
      },
      "source": [
        "Y_train = train_data[\"label\"]\n",
        "X_train = train_data.drop(labels = [\"label\"],axis = 1)\n",
        "X_train = X_train / 255.0\n",
        "X_test = test_data / 255.0\n",
        "X_train = X_train.values.reshape(-1,28,28,1)\n",
        "X_test = X_test.values.reshape(-1,28,28,1)\n",
        "Y_train = to_categorical(Y_train, num_classes = 10)"
      ],
      "execution_count": null,
      "outputs": []
    },
    {
      "cell_type": "code",
      "metadata": {
        "id": "sNbRBD34d3uB"
      },
      "source": [
        "datagen = ImageDataGenerator(\n",
        "        rotation_range=10,\n",
        "        zoom_range = 0.1,\n",
        "        width_shift_range=0.1,\n",
        "        height_shift_range=0.1)"
      ],
      "execution_count": null,
      "outputs": []
    },
    {
      "cell_type": "code",
      "metadata": {
        "id": "qFUQhDMmeB4R"
      },
      "source": [
        "datagen.fit(X_train)"
      ],
      "execution_count": null,
      "outputs": []
    },
    {
      "cell_type": "code",
      "metadata": {
        "id": "5JBkx3_6eHMU"
      },
      "source": [
        "X_train, X_val, Y_train, Y_val = train_test_split(X_train, Y_train, test_size = 0.1)"
      ],
      "execution_count": null,
      "outputs": []
    },
    {
      "cell_type": "code",
      "metadata": {
        "colab": {
          "base_uri": "https://localhost:8080/"
        },
        "id": "ERjnG1f3eNnD",
        "outputId": "fed6dc0c-f181-4176-861a-96444d432497"
      },
      "source": [
        "model = Sequential()\n",
        "\n",
        "model.add(Conv2D(32, kernel_size=5,input_shape=(28, 28, 1), activation = 'relu'))\n",
        "model.add(Conv2D(32, kernel_size=5, activation = 'relu'))\n",
        "model.add(MaxPool2D(2,2))\n",
        "model.add(BatchNormalization())\n",
        "model.add(Dropout(0.4))\n",
        "\n",
        "model.add(Conv2D(64, kernel_size=3,activation = 'relu'))\n",
        "model.add(Conv2D(64, kernel_size=3,activation = 'relu'))\n",
        "model.add(MaxPool2D(2,2))\n",
        "model.add(BatchNormalization())\n",
        "model.add(Dropout(0.4))\n",
        "\n",
        "model.add(Conv2D(128, kernel_size=3, activation = 'relu'))\n",
        "model.add(BatchNormalization())\n",
        "\n",
        "model.add(Flatten())\n",
        "model.add(Dense(256, activation = \"relu\"))\n",
        "model.add(Dropout(0.4))\n",
        "model.add(Dense(128, activation = \"relu\"))\n",
        "model.add(Dropout(0.4))\n",
        "model.add(Dense(10, activation = \"softmax\"))\n",
        "\n",
        "optimizer=Adam(lr=0.001)\n",
        "model.compile(optimizer = optimizer , loss = \"categorical_crossentropy\", metrics=[\"accuracy\"])\n",
        "\n",
        "model.summary()"
      ],
      "execution_count": null,
      "outputs": [
        {
          "output_type": "stream",
          "text": [
            "Model: \"sequential\"\n",
            "_________________________________________________________________\n",
            "Layer (type)                 Output Shape              Param #   \n",
            "=================================================================\n",
            "conv2d (Conv2D)              (None, 24, 24, 32)        832       \n",
            "_________________________________________________________________\n",
            "conv2d_1 (Conv2D)            (None, 20, 20, 32)        25632     \n",
            "_________________________________________________________________\n",
            "max_pooling2d (MaxPooling2D) (None, 10, 10, 32)        0         \n",
            "_________________________________________________________________\n",
            "batch_normalization (BatchNo (None, 10, 10, 32)        128       \n",
            "_________________________________________________________________\n",
            "dropout (Dropout)            (None, 10, 10, 32)        0         \n",
            "_________________________________________________________________\n",
            "conv2d_2 (Conv2D)            (None, 8, 8, 64)          18496     \n",
            "_________________________________________________________________\n",
            "conv2d_3 (Conv2D)            (None, 6, 6, 64)          36928     \n",
            "_________________________________________________________________\n",
            "max_pooling2d_1 (MaxPooling2 (None, 3, 3, 64)          0         \n",
            "_________________________________________________________________\n",
            "batch_normalization_1 (Batch (None, 3, 3, 64)          256       \n",
            "_________________________________________________________________\n",
            "dropout_1 (Dropout)          (None, 3, 3, 64)          0         \n",
            "_________________________________________________________________\n",
            "conv2d_4 (Conv2D)            (None, 1, 1, 128)         73856     \n",
            "_________________________________________________________________\n",
            "batch_normalization_2 (Batch (None, 1, 1, 128)         512       \n",
            "_________________________________________________________________\n",
            "flatten (Flatten)            (None, 128)               0         \n",
            "_________________________________________________________________\n",
            "dense (Dense)                (None, 256)               33024     \n",
            "_________________________________________________________________\n",
            "dropout_2 (Dropout)          (None, 256)               0         \n",
            "_________________________________________________________________\n",
            "dense_1 (Dense)              (None, 128)               32896     \n",
            "_________________________________________________________________\n",
            "dropout_3 (Dropout)          (None, 128)               0         \n",
            "_________________________________________________________________\n",
            "dense_2 (Dense)              (None, 10)                1290      \n",
            "=================================================================\n",
            "Total params: 223,850\n",
            "Trainable params: 223,402\n",
            "Non-trainable params: 448\n",
            "_________________________________________________________________\n"
          ],
          "name": "stdout"
        }
      ]
    },
    {
      "cell_type": "code",
      "metadata": {
        "colab": {
          "base_uri": "https://localhost:8080/"
        },
        "id": "ug4Tc9yOeY-r",
        "outputId": "757717a8-148c-469c-de21-5d3b01e8c888"
      },
      "source": [
        "annealer = LearningRateScheduler(lambda x: 1e-3 * 0.95 ** x)\n",
        "history = model.fit(datagen.flow(X_train,Y_train, BS),\n",
        "                              epochs=EPOCHS, validation_data = (X_val,Y_val),\n",
        "                              verbose = 1, steps_per_epoch=300, callbacks=[annealer])"
      ],
      "execution_count": null,
      "outputs": [
        {
          "output_type": "stream",
          "text": [
            "Epoch 1/30\n",
            "300/300 [==============================] - 35s 118ms/step - loss: 0.1605 - accuracy: 0.9567 - val_loss: 0.0447 - val_accuracy: 0.9848\n",
            "Epoch 2/30\n",
            "300/300 [==============================] - 36s 119ms/step - loss: 0.1464 - accuracy: 0.9626 - val_loss: 0.0308 - val_accuracy: 0.9905\n",
            "Epoch 3/30\n",
            "300/300 [==============================] - 35s 118ms/step - loss: 0.1174 - accuracy: 0.9664 - val_loss: 0.0312 - val_accuracy: 0.9917\n",
            "Epoch 4/30\n",
            "300/300 [==============================] - 35s 118ms/step - loss: 0.1179 - accuracy: 0.9683 - val_loss: 0.0410 - val_accuracy: 0.9864\n",
            "Epoch 5/30\n",
            "300/300 [==============================] - 36s 118ms/step - loss: 0.1075 - accuracy: 0.9681 - val_loss: 0.0388 - val_accuracy: 0.9890\n",
            "Epoch 6/30\n",
            "300/300 [==============================] - 35s 118ms/step - loss: 0.1017 - accuracy: 0.9725 - val_loss: 0.0374 - val_accuracy: 0.9893\n",
            "Epoch 7/30\n",
            "300/300 [==============================] - 35s 118ms/step - loss: 0.1019 - accuracy: 0.9709 - val_loss: 0.0287 - val_accuracy: 0.9900\n",
            "Epoch 8/30\n",
            "300/300 [==============================] - 35s 118ms/step - loss: 0.0991 - accuracy: 0.9733 - val_loss: 0.0511 - val_accuracy: 0.9848\n",
            "Epoch 9/30\n",
            "300/300 [==============================] - 35s 118ms/step - loss: 0.0960 - accuracy: 0.9721 - val_loss: 0.0376 - val_accuracy: 0.9883\n",
            "Epoch 10/30\n",
            "300/300 [==============================] - 35s 118ms/step - loss: 0.0903 - accuracy: 0.9768 - val_loss: 0.0245 - val_accuracy: 0.9910\n",
            "Epoch 11/30\n",
            "300/300 [==============================] - 35s 118ms/step - loss: 0.0851 - accuracy: 0.9768 - val_loss: 0.0285 - val_accuracy: 0.9895\n",
            "Epoch 12/30\n",
            "300/300 [==============================] - 35s 118ms/step - loss: 0.0762 - accuracy: 0.9823 - val_loss: 0.0250 - val_accuracy: 0.9926\n",
            "Epoch 13/30\n",
            "300/300 [==============================] - 35s 118ms/step - loss: 0.0771 - accuracy: 0.9810 - val_loss: 0.0253 - val_accuracy: 0.9912\n",
            "Epoch 14/30\n",
            "300/300 [==============================] - 35s 118ms/step - loss: 0.0883 - accuracy: 0.9758 - val_loss: 0.0286 - val_accuracy: 0.9921\n",
            "Epoch 15/30\n",
            "300/300 [==============================] - 35s 118ms/step - loss: 0.0795 - accuracy: 0.9794 - val_loss: 0.0311 - val_accuracy: 0.9926\n",
            "Epoch 16/30\n",
            "300/300 [==============================] - 35s 118ms/step - loss: 0.0685 - accuracy: 0.9803 - val_loss: 0.0247 - val_accuracy: 0.9936\n",
            "Epoch 17/30\n",
            "300/300 [==============================] - 35s 118ms/step - loss: 0.0647 - accuracy: 0.9834 - val_loss: 0.0227 - val_accuracy: 0.9950\n",
            "Epoch 18/30\n",
            "300/300 [==============================] - 35s 118ms/step - loss: 0.0753 - accuracy: 0.9784 - val_loss: 0.0294 - val_accuracy: 0.9924\n",
            "Epoch 19/30\n",
            "300/300 [==============================] - 35s 118ms/step - loss: 0.0656 - accuracy: 0.9813 - val_loss: 0.0274 - val_accuracy: 0.9912\n",
            "Epoch 20/30\n",
            "300/300 [==============================] - 36s 118ms/step - loss: 0.0681 - accuracy: 0.9797 - val_loss: 0.0231 - val_accuracy: 0.9917\n",
            "Epoch 21/30\n",
            "300/300 [==============================] - 36s 119ms/step - loss: 0.0613 - accuracy: 0.9823 - val_loss: 0.0223 - val_accuracy: 0.9931\n",
            "Epoch 22/30\n",
            "300/300 [==============================] - 36s 119ms/step - loss: 0.0692 - accuracy: 0.9811 - val_loss: 0.0206 - val_accuracy: 0.9924\n",
            "Epoch 23/30\n",
            "300/300 [==============================] - 36s 118ms/step - loss: 0.0581 - accuracy: 0.9831 - val_loss: 0.0237 - val_accuracy: 0.9931\n",
            "Epoch 24/30\n",
            "300/300 [==============================] - 36s 118ms/step - loss: 0.0681 - accuracy: 0.9828 - val_loss: 0.0193 - val_accuracy: 0.9931\n",
            "Epoch 25/30\n",
            "300/300 [==============================] - 36s 119ms/step - loss: 0.0565 - accuracy: 0.9844 - val_loss: 0.0230 - val_accuracy: 0.9948\n",
            "Epoch 26/30\n",
            "300/300 [==============================] - 36s 118ms/step - loss: 0.0594 - accuracy: 0.9849 - val_loss: 0.0214 - val_accuracy: 0.9940\n",
            "Epoch 27/30\n",
            "300/300 [==============================] - 36s 119ms/step - loss: 0.0596 - accuracy: 0.9844 - val_loss: 0.0269 - val_accuracy: 0.9943\n",
            "Epoch 28/30\n",
            "300/300 [==============================] - 36s 118ms/step - loss: 0.0547 - accuracy: 0.9854 - val_loss: 0.0217 - val_accuracy: 0.9943\n",
            "Epoch 29/30\n",
            "300/300 [==============================] - 35s 118ms/step - loss: 0.0620 - accuracy: 0.9837 - val_loss: 0.0222 - val_accuracy: 0.9940\n",
            "Epoch 30/30\n",
            "300/300 [==============================] - 36s 119ms/step - loss: 0.0511 - accuracy: 0.9851 - val_loss: 0.0232 - val_accuracy: 0.9940\n"
          ],
          "name": "stdout"
        }
      ]
    },
    {
      "cell_type": "code",
      "metadata": {
        "colab": {
          "base_uri": "https://localhost:8080/",
          "height": 664
        },
        "id": "ByzxwiD9kCA7",
        "outputId": "48811b7e-65cc-4776-e0ef-a2a2327d0334"
      },
      "source": [
        "    print(\"[INFO] Plotting model accuracy and Loss\")\n",
        "    acc = history.history['accuracy']\n",
        "    val_acc = history.history['val_accuracy']\n",
        "    loss = history.history['loss']\n",
        "    val_loss = history.history['val_loss']\n",
        "    epochs = range(1, len(acc) + 1)\n",
        "    #Train and validation accuracy\n",
        "    plt.plot(epochs, acc, 'b', label='Training accurarcy')\n",
        "    plt.plot(epochs, val_acc, 'r', label='Validation accurarcy')\n",
        "    plt.title('Training and Validation accurarcy')\n",
        "    plt.legend()\n",
        "\n",
        "    plt.figure()\n",
        "    #Train and validation loss\n",
        "    plt.plot(epochs, loss, 'b', label='Training loss')\n",
        "    plt.plot(epochs, val_loss, 'r', label='Validation loss')\n",
        "    plt.title('Training and Validation loss')\n",
        "    plt.legend()\n",
        "    plt.show()\n",
        "\n",
        "    print(\"[INFO] Calculating model accuracy\")\n",
        "    model_scores = model.evaluate(X_train, Y_train)\n",
        "    print(f'Model Accuracy: {model_scores[1]*100}')\n",
        "\n",
        "    val_scores = model.evaluate(X_val, Y_val)\n",
        "    print(f\"Test Accuracy: {val_scores[1]*100}\")\n",
        "    \n",
        "    print(\"[INFO] Saving model\")\n",
        "    model.save('MNIST.h5')"
      ],
      "execution_count": null,
      "outputs": [
        {
          "output_type": "stream",
          "text": [
            "[INFO] Plotting model accuracy and Loss\n"
          ],
          "name": "stdout"
        },
        {
          "output_type": "display_data",
          "data": {
            "image/png": "[encoded data removed]",
            "text/plain": [
              "<Figure size 432x288 with 1 Axes>"
            ]
          },
          "metadata": {
            "tags": [],
            "needs_background": "light"
          }
        },
        {
          "output_type": "display_data",
          "data": {
            "image/png": "[encoded data removed]",
            "text/plain": [
              "<Figure size 432x288 with 1 Axes>"
            ]
          },
          "metadata": {
            "tags": [],
            "needs_background": "light"
          }
        },
        {
          "output_type": "stream",
          "text": [
            "[INFO] Calculating model accuracy\n",
            "1182/1182 [==============================] - 27s 23ms/step - loss: 0.0154 - accuracy: 0.9955\n",
            "Model Accuracy: 99.55026507377625\n",
            "132/132 [==============================] - 3s 23ms/step - loss: 0.0232 - accuracy: 0.9940\n",
            "Test Accuracy: 99.40476417541504\n",
            "[INFO] Saving model\n"
          ],
          "name": "stdout"
        }
      ]
    },
    {
      "cell_type": "code",
      "metadata": {
        "id": "kt-il1CsiyaX"
      },
      "source": [
        "predictions = model.predict(X_test)\n",
        "predictions = np.argmax(predictions,axis = 1)\n",
        "predictions = pd.Series(predictions, name=\"Label\")\n",
        "submit = pd.concat([pd.Series(range(1,28001),name = \"ImageId\"),predictions],axis = 1)\n",
        "submit.to_csv(\"result.csv\",index=False)"
      ],
      "execution_count": null,
      "outputs": []
    }
  ]
}